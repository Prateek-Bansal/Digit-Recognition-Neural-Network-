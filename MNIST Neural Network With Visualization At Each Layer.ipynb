{
 "cells": [
  {
   "cell_type": "code",
   "execution_count": 1,
   "metadata": {},
   "outputs": [],
   "source": [
    "from tensorflow.examples.tutorials.mnist import input_data\n",
    "import numpy as np\n",
    "import os\n",
    "import tensorflow as tf"
   ]
  },
  {
   "cell_type": "code",
   "execution_count": 76,
   "metadata": {},
   "outputs": [
    {
     "name": "stdout",
     "output_type": "stream",
     "text": [
      "Extracting MNIST_data/train-images-idx3-ubyte.gz\n",
      "Extracting MNIST_data/train-labels-idx1-ubyte.gz\n",
      "Extracting MNIST_data/t10k-images-idx3-ubyte.gz\n",
      "Extracting MNIST_data/t10k-labels-idx1-ubyte.gz\n"
     ]
    }
   ],
   "source": [
    "dataset = input_data.read_data_sets('MNIST_data/', one_hot=True)"
   ]
  },
  {
   "cell_type": "code",
   "execution_count": 3,
   "metadata": {},
   "outputs": [
    {
     "data": {
      "text/plain": [
       "array([0., 0., 0., 1., 0., 0., 0., 0., 0., 0.])"
      ]
     },
     "execution_count": 3,
     "metadata": {},
     "output_type": "execute_result"
    }
   ],
   "source": [
    "dataset.train.labels[1]"
   ]
  },
  {
   "cell_type": "code",
   "execution_count": 4,
   "metadata": {},
   "outputs": [],
   "source": [
    "import matplotlib.pyplot as plt"
   ]
  },
  {
   "cell_type": "code",
   "execution_count": 5,
   "metadata": {},
   "outputs": [],
   "source": [
    "train = dataset.train\n",
    "test = dataset.test"
   ]
  },
  {
   "cell_type": "code",
   "execution_count": 6,
   "metadata": {},
   "outputs": [],
   "source": [
    "image1=dataset.train.images[1]\n",
    "image1=np.array(image1,float)\n",
    "image1=image1.reshape((28,28))"
   ]
  },
  {
   "cell_type": "code",
   "execution_count": 7,
   "metadata": {},
   "outputs": [
    {
     "data": {
      "text/plain": [
       "<matplotlib.image.AxesImage at 0x204816fec50>"
      ]
     },
     "execution_count": 7,
     "metadata": {},
     "output_type": "execute_result"
    },
    {
     "data": {
      "image/png": "[encoded data removed]",
      "text/plain": [
       "<Figure size 432x288 with 1 Axes>"
      ]
     },
     "metadata": {
      "needs_background": "light"
     },
     "output_type": "display_data"
    }
   ],
   "source": [
    "plt.imshow(image1)"
   ]
  },
  {
   "cell_type": "code",
   "execution_count": 8,
   "metadata": {},
   "outputs": [
    {
     "data": {
      "text/plain": [
       "(55000, 10)"
      ]
     },
     "execution_count": 8,
     "metadata": {},
     "output_type": "execute_result"
    }
   ],
   "source": [
    "train.labels.shape"
   ]
  },
  {
   "cell_type": "code",
   "execution_count": 62,
   "metadata": {},
   "outputs": [],
   "source": [
    "def plot(image, shape):\n",
    "    image = np.array(image, 'float')\n",
    "    image= image.reshape(shape)\n",
    "    plt.imshow(image)\n",
    "    plt.show()\n",
    "\n",
    "def layerInMLP(ans, shape):\n",
    "   # w = sess.run(w)\n",
    "    #ans = tf.matmul(ans, w)\n",
    "    ans = sess.run(ans)\n",
    "    plot(ans[1], shape) \n",
    "    return    \n",
    "    \n",
    "def layer(ans, w, b, shape):\n",
    "   # w = sess.run(w)\n",
    "    ans = tf.add(tf.matmul(ans, w), b)\n",
    "    ans = tf.nn.relu(ans)\n",
    "    ans = sess.run(ans)\n",
    "    #plot(ans[1], shape) \n",
    "    return ans\n",
    "    \n",
    "\n",
    "def atEachLayer():\n",
    "    multImgs=[]\n",
    "    image = train.images\n",
    "    multImgs.append(image)\n",
    "    \n",
    "    w = sess.run(weights['h1'])\n",
    "    b= sess.run(biases['h1'])\n",
    "    shape = (18, 19)\n",
    "    image = layer(image, w, b, shape)  \n",
    "    multImgs.append(image)\n",
    "\n",
    "    w = sess.run(weights['h2'])\n",
    "    b= sess.run(biases['h2'])\n",
    "    shape = (8, 16)\n",
    "    image = layer(image, w, b, shape)  \n",
    "    multImgs.append(image)\n",
    "    \n",
    "    w = sess.run(weights['op'])\n",
    "    b= sess.run(biases['op'])\n",
    "    shape = (2,5)\n",
    "    image = layer(image, w, b, shape)  \n",
    "    multImgs.append(image)\n",
    "    \n",
    "    return multImgs\n",
    "    "
   ]
  },
  {
   "cell_type": "code",
   "execution_count": 10,
   "metadata": {},
   "outputs": [],
   "source": [
    "n_hidden1 = 342\n",
    "n_hidden2 = 128\n",
    "n_input = 784\n",
    "n_classes = 10\n",
    "\n",
    "weights = {\n",
    "    'h1':tf.Variable(tf.random_normal([n_input,n_hidden1])),\n",
    "    'h2':tf.Variable(tf.random_normal([n_hidden1, n_hidden2])),\n",
    "    'op':tf.Variable(tf.random_normal([n_hidden2, n_classes]))\n",
    "}\n",
    "\n",
    "biases={\n",
    "    'h1':tf.Variable(tf.random_normal([n_hidden1])),\n",
    "    'h2':tf.Variable(tf.random_normal([n_hidden2])),\n",
    "    'op':tf.Variable(tf.random_normal([n_classes]))\n",
    "}\n"
   ]
  },
  {
   "cell_type": "code",
   "execution_count": 11,
   "metadata": {},
   "outputs": [],
   "source": [
    "def mlp(x, weights, biases):\n",
    "    layer1 = tf.add(tf.matmul(x, weights['h1']), biases['h1'])      #xw+b\n",
    "    layer1 = tf.nn.relu(layer1)\n",
    "    \n",
    "    layer2 = tf.add(tf.matmul(layer1, weights['h2']), biases['h2'])\n",
    "    layer2 = tf.nn.relu(layer2)\n",
    "    \n",
    "    op_layer = tf.add(tf.matmul(layer2, weights['op']), biases['op'])\n",
    "    #op_layer = tf.nn.relu(op_layer)\n",
    "    return op_layer"
   ]
  },
  {
   "cell_type": "code",
   "execution_count": 12,
   "metadata": {},
   "outputs": [
    {
     "data": {
      "text/plain": [
       "<tf.Tensor 'Add_2:0' shape=(?, 10) dtype=float32>"
      ]
     },
     "execution_count": 12,
     "metadata": {},
     "output_type": "execute_result"
    }
   ],
   "source": [
    "x = tf.placeholder(\"float\", shape = [None, 784])\n",
    "y= tf.placeholder(tf.int32, shape =[None, 10])\n",
    "preds = mlp(x, weights, biases)\n",
    "preds"
   ]
  },
  {
   "cell_type": "code",
   "execution_count": 13,
   "metadata": {},
   "outputs": [],
   "source": [
    "cost = tf.reduce_mean(tf.nn.softmax_cross_entropy_with_logits_v2(logits=preds, labels=y))\n",
    "optimizer =tf.train.AdamOptimizer(learning_rate=0.01)"
   ]
  },
  {
   "cell_type": "code",
   "execution_count": 14,
   "metadata": {},
   "outputs": [],
   "source": [
    "optimize = optimizer.minimize(cost)\n",
    "sess = tf.Session()\n",
    "init = tf.global_variables_initializer()\n",
    "sess.run(init)"
   ]
  },
  {
   "cell_type": "code",
   "execution_count": 77,
   "metadata": {
    "scrolled": true
   },
   "outputs": [
    {
     "name": "stdout",
     "output_type": "stream",
     "text": [
      "Epoch Number : 0\n",
      "Cost:  62.09871540203312\n",
      "Epoch Number : 1\n",
      "Cost:  57.73525169023924\n",
      "Epoch Number : 2\n",
      "Cost:  63.7450565187537\n",
      "Epoch Number : 3\n",
      "Cost:  59.376143476576544\n",
      "Epoch Number : 4\n",
      "Cost:  50.88204899034099\n",
      "Epoch Number : 5\n",
      "Cost:  66.76617377349339\n",
      "Epoch Number : 6\n",
      "Cost:  68.20254855271196\n",
      "Epoch Number : 7\n",
      "Cost:  49.026300225468276\n",
      "Epoch Number : 8\n",
      "Cost:  64.62133826916397\n",
      "Epoch Number : 9\n",
      "Cost:  51.35136261358275\n",
      "Epoch Number : 10\n",
      "Cost:  62.96054444138281\n",
      "Epoch Number : 11\n",
      "Cost:  53.28151638570378\n",
      "Epoch Number : 12\n",
      "Cost:  54.10060875416275\n",
      "Epoch Number : 13\n",
      "Cost:  63.64941730323744\n",
      "Epoch Number : 14\n",
      "Cost:  51.046491334427174\n",
      "Epoch Number : 15\n",
      "Cost:  54.353510951505086\n",
      "Epoch Number : 16\n",
      "Cost:  50.966264792993854\n",
      "Epoch Number : 17\n",
      "Cost:  56.58471376246057\n",
      "Epoch Number : 18\n",
      "Cost:  52.57357991858157\n",
      "Epoch Number : 19\n",
      "Cost:  53.05908935756994\n",
      "Epoch Number : 20\n",
      "Cost:  48.23121127863163\n",
      "Epoch Number : 21\n",
      "Cost:  54.44152721614245\n",
      "Epoch Number : 22\n",
      "Cost:  63.085749501423834\n",
      "Epoch Number : 23\n",
      "Cost:  47.2757705986613\n",
      "Epoch Number : 24\n",
      "Cost:  61.56447295123226\n"
     ]
    }
   ],
   "source": [
    "epochs = 25\n",
    "batch_size = 100\n",
    "for i in range(epochs):\n",
    "    total_cost =0\n",
    "    num_batches = int(train.num_examples/batch_size)\n",
    "    print('Epoch Number :',i)\n",
    "    for j in range(num_batches):\n",
    "        x_batch, y_batch = train.next_batch(batch_size)\n",
    "        a, c = sess.run([optimize, cost], feed_dict={x:x_batch, y:y_batch})\n",
    "        total_cost += c\n",
    "    print(\"Cost: \",total_cost)"
   ]
  },
  {
   "cell_type": "code",
   "execution_count": 78,
   "metadata": {},
   "outputs": [],
   "source": [
    "predictions = tf.argmax(preds, 1)"
   ]
  },
  {
   "cell_type": "code",
   "execution_count": 79,
   "metadata": {},
   "outputs": [],
   "source": [
    "correct_labels = tf.argmax(y, 1)"
   ]
  },
  {
   "cell_type": "code",
   "execution_count": 80,
   "metadata": {},
   "outputs": [
    {
     "data": {
      "text/plain": [
       "9691"
      ]
     },
     "execution_count": 80,
     "metadata": {},
     "output_type": "execute_result"
    }
   ],
   "source": [
    "correct_preds = tf.equal(predictions, correct_labels)\n",
    "correct_ones = sess.run(correct_preds, feed_dict={x:test.images, y:test.labels})\n",
    "correct_ones.sum()"
   ]
  },
  {
   "cell_type": "code",
   "execution_count": 81,
   "metadata": {},
   "outputs": [],
   "source": [
    "mImgs = atEachLayer()"
   ]
  },
  {
   "cell_type": "code",
   "execution_count": 85,
   "metadata": {
    "scrolled": true
   },
   "outputs": [
    {
     "name": "stdout",
     "output_type": "stream",
     "text": [
      "Image :  100\n"
     ]
    },
    {
     "data": {
      "image/png": "[encoded data removed]",
      "text/plain": [
       "<Figure size 432x288 with 1 Axes>"
      ]
     },
     "metadata": {
      "needs_background": "light"
     },
     "output_type": "display_data"
    },
    {
     "data": {
      "image/png": "[encoded data removed]",
      "text/plain": [
       "<Figure size 432x288 with 1 Axes>"
      ]
     },
     "metadata": {
      "needs_background": "light"
     },
     "output_type": "display_data"
    },
    {
     "data": {
      "image/png": "[encoded data removed]",
      "text/plain": [
       "<Figure size 432x288 with 1 Axes>"
      ]
     },
     "metadata": {
      "needs_background": "light"
     },
     "output_type": "display_data"
    },
    {
     "data": {
      "image/png": "[encoded data removed]",
      "text/plain": [
       "<Figure size 432x288 with 1 Axes>"
      ]
     },
     "metadata": {
      "needs_background": "light"
     },
     "output_type": "display_data"
    },
    {
     "name": "stdout",
     "output_type": "stream",
     "text": [
      "Image :  101\n"
     ]
    },
    {
     "data": {
      "image/png": "[encoded data removed]",
      "text/plain": [
       "<Figure size 432x288 with 1 Axes>"
      ]
     },
     "metadata": {
      "needs_background": "light"
     },
     "output_type": "display_data"
    },
    {
     "data": {
      "image/png": "[encoded data removed]",
      "text/plain": [
       "<Figure size 432x288 with 1 Axes>"
      ]
     },
     "metadata": {
      "needs_background": "light"
     },
     "output_type": "display_data"
    },
    {
     "data": {
      "image/png": "[encoded data removed]",
      "text/plain": [
       "<Figure size 432x288 with 1 Axes>"
      ]
     },
     "metadata": {
      "needs_background": "light"
     },
     "output_type": "display_data"
    },
    {
     "data": {
      "image/png": "[encoded data removed]",
      "text/plain": [
       "<Figure size 432x288 with 1 Axes>"
      ]
     },
     "metadata": {
      "needs_background": "light"
     },
     "output_type": "display_data"
    },
    {
     "name": "stdout",
     "output_type": "stream",
     "text": [
      "Image :  102\n"
     ]
    },
    {
     "data": {
      "image/png": "[encoded data removed]",
      "text/plain": [
       "<Figure size 432x288 with 1 Axes>"
      ]
     },
     "metadata": {
      "needs_background": "light"
     },
     "output_type": "display_data"
    },
    {
     "data": {
      "image/png": "[encoded data removed]",
      "text/plain": [
       "<Figure size 432x288 with 1 Axes>"
      ]
     },
     "metadata": {
      "needs_background": "light"
     },
     "output_type": "display_data"
    },
    {
     "data": {
      "image/png": "[encoded data removed]",
      "text/plain": [
       "<Figure size 432x288 with 1 Axes>"
      ]
     },
     "metadata": {
      "needs_background": "light"
     },
     "output_type": "display_data"
    },
    {
     "data": {
      "image/png": "[encoded data removed]",
      "text/plain": [
       "<Figure size 432x288 with 1 Axes>"
      ]
     },
     "metadata": {
      "needs_background": "light"
     },
     "output_type": "display_data"
    },
    {
     "name": "stdout",
     "output_type": "stream",
     "text": [
      "Image :  103\n"
     ]
    },
    {
     "data": {
      "image/png": "[encoded data removed]",
      "text/plain": [
       "<Figure size 432x288 with 1 Axes>"
      ]
     },
     "metadata": {
      "needs_background": "light"
     },
     "output_type": "display_data"
    },
    {
     "data": {
      "image/png": "[encoded data removed]",
      "text/plain": [
       "<Figure size 432x288 with 1 Axes>"
      ]
     },
     "metadata": {
      "needs_background": "light"
     },
     "output_type": "display_data"
    },
    {
     "data": {
      "image/png": "[encoded data removed]",
      "text/plain": [
       "<Figure size 432x288 with 1 Axes>"
      ]
     },
     "metadata": {
      "needs_background": "light"
     },
     "output_type": "display_data"
    },
    {
     "data": {
      "image/png": "[encoded data removed]",
      "text/plain": [
       "<Figure size 432x288 with 1 Axes>"
      ]
     },
     "metadata": {
      "needs_background": "light"
     },
     "output_type": "display_data"
    },
    {
     "name": "stdout",
     "output_type": "stream",
     "text": [
      "Image :  104\n"
     ]
    },
    {
     "data": {
      "image/png": "[encoded data removed]",
      "text/plain": [
       "<Figure size 432x288 with 1 Axes>"
      ]
     },
     "metadata": {
      "needs_background": "light"
     },
     "output_type": "display_data"
    },
    {
     "data": {
      "image/png": "[encoded data removed]",
      "text/plain": [
       "<Figure size 432x288 with 1 Axes>"
      ]
     },
     "metadata": {
      "needs_background": "light"
     },
     "output_type": "display_data"
    },
    {
     "data": {
      "image/png": "[encoded data removed]",
      "text/plain": [
       "<Figure size 432x288 with 1 Axes>"
      ]
     },
     "metadata": {
      "needs_background": "light"
     },
     "output_type": "display_data"
    },
    {
     "data": {
      "image/png": "[encoded data removed]",
      "text/plain": [
       "<Figure size 432x288 with 1 Axes>"
      ]
     },
     "metadata": {
      "needs_background": "light"
     },
     "output_type": "display_data"
    }
   ],
   "source": [
    "for i in range(100, 105):\n",
    "    print(\"Image : \",i)\n",
    "    img = mImgs[0][i]\n",
    "    plot(img, (28, 28))\n",
    "    img = mImgs[1][i]\n",
    "    plot(img, (18, 19)) \n",
    "    img = mImgs[2][i]\n",
    "    plot(img, (16, 8))\n",
    "    img = mImgs[3][i]\n",
    "    plot(img, (2, 5))"
   ]
  },
  {
   "cell_type": "code",
   "execution_count": 83,
   "metadata": {},
   "outputs": [
    {
     "data": {
      "image/png": "[encoded data removed]",
      "text/plain": [
       "<Figure size 432x288 with 1 Axes>"
      ]
     },
     "metadata": {
      "needs_background": "light"
     },
     "output_type": "display_data"
    }
   ],
   "source": [
    "plot(train.images[106], (28, 28))"
   ]
  },
  {
   "cell_type": "code",
   "execution_count": 84,
   "metadata": {},
   "outputs": [
    {
     "data": {
      "text/plain": [
       "array([398.89023, 225.21298, 486.96356,   0.     , 439.1684 , 371.29984,\n",
       "       596.0551 ,   0.     , 484.55212, 335.39117], dtype=float32)"
      ]
     },
     "execution_count": 84,
     "metadata": {},
     "output_type": "execute_result"
    }
   ],
   "source": [
    "train.labels[106]\n",
    "mImgs[3][106]"
   ]
  },
  {
   "cell_type": "code",
   "execution_count": null,
   "metadata": {},
   "outputs": [],
   "source": []
  },
  {
   "cell_type": "code",
   "execution_count": null,
   "metadata": {},
   "outputs": [],
   "source": []
  }
 ],
 "metadata": {
  "kernelspec": {
   "display_name": "Python 3",
   "language": "python",
   "name": "python3"
  },
  "language_info": {
   "codemirror_mode": {
    "name": "ipython",
    "version": 3
   },
   "file_extension": ".py",
   "mimetype": "text/x-python",
   "name": "python",
   "nbconvert_exporter": "python",
   "pygments_lexer": "ipython3",
   "version": "3.6.7"
  }
 },
 "nbformat": 4,
 "nbformat_minor": 2
}
